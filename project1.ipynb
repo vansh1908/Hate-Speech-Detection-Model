{
 "cells": [
  {
   "cell_type": "code",
   "execution_count": null,
   "id": "b2cd935d-b7e5-421f-80a7-eb116564e4c5",
   "metadata": {},
   "outputs": [
    {
     "name": "stdout",
     "output_type": "stream",
     "text": [
      "Classification Report:\n",
      "              precision    recall  f1-score   support\n",
      "\n",
      "        hate       1.00      1.00      1.00         1\n",
      "    non-hate       1.00      1.00      1.00         1\n",
      "\n",
      "    accuracy                           1.00         2\n",
      "   macro avg       1.00      1.00      1.00         2\n",
      "weighted avg       1.00      1.00      1.00         2\n",
      "\n"
     ]
    },
    {
     "name": "stdin",
     "output_type": "stream",
     "text": [
      "Enter a text for classification (or 'exit' to quit):  hate\n"
     ]
    },
    {
     "name": "stdout",
     "output_type": "stream",
     "text": [
      "Text: hate | Prediction: ['hate']\n"
     ]
    }
   ],
   "source": [
    "import nltk\n",
    "import random\n",
    "from nltk.corpus import stopwords\n",
    "from nltk.tokenize import word_tokenize\n",
    "from sklearn.feature_extraction.text import TfidfVectorizer\n",
    "from sklearn.model_selection import train_test_split\n",
    "from sklearn.svm import LinearSVC\n",
    "from sklearn.metrics import classification_report\n",
    "\n",
    "# Sample data (you should replace this with your own dataset)\n",
    "data = [\n",
    "    (\"I hate you, go away\", \"hate\"),\n",
    "    (\"Love and peace to all\", \"non-hate\"),\n",
    "    (\"I hope you rot in hell\", \"hate\"),\n",
    "    (\"Spread kindness and love\", \"non-hate\"),\n",
    "    (\"Kill all [ethnic group]\", \"hate\"),\n",
    "    (\"Respect diversity and inclusion\", \"non-hate\")\n",
    "]\n",
    "\n",
    "# Preprocess data\n",
    "stop_words = set(stopwords.words('english'))\n",
    "\n",
    "def preprocess_text(text):\n",
    "    words = word_tokenize(text.lower())\n",
    "    words = [word for word in words if word.isalpha() and word not in stop_words]\n",
    "    return ' '.join(words)\n",
    "\n",
    "# Apply preprocessing to data\n",
    "preprocessed_data = [(preprocess_text(text), label) for text, label in data]\n",
    "\n",
    "# Split data into training and testing sets\n",
    "X = [text for text, label in preprocessed_data]\n",
    "y = [label for text, label in preprocessed_data]\n",
    "\n",
    "X_train, X_test, y_train, y_test = train_test_split(X, y, test_size=0.2, random_state=42)\n",
    "\n",
    "# Vectorize text data using TF-IDF\n",
    "vectorizer = TfidfVectorizer()\n",
    "X_train_vectorized = vectorizer.fit_transform(X_train)\n",
    "X_test_vectorized = vectorizer.transform(X_test)\n",
    "\n",
    "# Train a Support Vector Machine (SVM) classifier\n",
    "svm_classifier = LinearSVC()\n",
    "svm_classifier.fit(X_train_vectorized, y_train)\n",
    "\n",
    "# Evaluate the model\n",
    "y_pred = svm_classifier.predict(X_test_vectorized)\n",
    "print(\"Classification Report:\")\n",
    "print(classification_report(y_test, y_pred))\n",
    "\n",
    "# Test the model with user input\n",
    "while True:\n",
    "    user_input = input(\"Enter a text for classification (or 'exit' to quit): \")\n",
    "    if user_input.lower() == 'exit':\n",
    "        break\n",
    "\n",
    "    user_input_preprocessed = preprocess_text(user_input)\n",
    "    user_input_vectorized = vectorizer.transform([user_input_preprocessed])\n",
    "    prediction = svm_classifier.predict(user_input_vectorized)\n",
    "\n",
    "    print(f\"Text: {user_input} | Prediction: {prediction}\")\n",
    "    \n",
    "# Evaluate the model with zero_division parameter set to 1\n",
    "print(\"Classification Report:\")\n",
    "print(classification_report(y_test, y_pred, zero_division=1))"
   ]
  },
  {
   "cell_type": "code",
   "execution_count": null,
   "id": "3d4ee1fd-7d55-4e07-9e2e-6bab7e8cad5d",
   "metadata": {},
   "outputs": [],
   "source": []
  }
 ],
 "metadata": {
  "kernelspec": {
   "display_name": "Python 3 (ipykernel)",
   "language": "python",
   "name": "python3"
  },
  "language_info": {
   "codemirror_mode": {
    "name": "ipython",
    "version": 3
   },
   "file_extension": ".py",
   "mimetype": "text/x-python",
   "name": "python",
   "nbconvert_exporter": "python",
   "pygments_lexer": "ipython3",
   "version": "3.11.7"
  }
 },
 "nbformat": 4,
 "nbformat_minor": 5
}
